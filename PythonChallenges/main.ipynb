{
 "cells": [
  {
   "cell_type": "markdown",
   "metadata": {},
   "source": [
    "5-9-22"
   ]
  },
  {
   "cell_type": "code",
   "execution_count": null,
   "metadata": {},
   "outputs": [],
   "source": []
  },
  {
   "cell_type": "code",
   "execution_count": 1,
   "metadata": {},
   "outputs": [],
   "source": [
    "def three_div(list):\n",
    "    div_list = []\n",
    "    for i in list:\n",
    "        if i % 3 == 0:\n",
    "            div_list.append(i)\n",
    "    return div_list\n",
    "\n",
    "list3 = [1,2,3]\n",
    "three_div(list3)\n",
    "\n",
    "#list comprehension\n",
    "def three_div(inlist):\n",
    "    return[i for i in inlist if i % 3 == 0]"
   ]
  },
  {
   "cell_type": "markdown",
   "metadata": {},
   "source": [
    "Classes vs functions\\\n",
    "what is a method (functions inside classes)\\\n",
    "attributes\n"
   ]
  },
  {
   "cell_type": "code",
   "execution_count": 2,
   "metadata": {},
   "outputs": [
    {
     "data": {
      "text/plain": [
       "['hobbes', 'suzie']"
      ]
     },
     "execution_count": 2,
     "metadata": {},
     "output_type": "execute_result"
    }
   ],
   "source": [
    "def dict_print(dict):\n",
    "    keys = []\n",
    "    for key in dict:\n",
    "        if dict[key] > 18:\n",
    "          keys.append(key)\n",
    "    return keys\n",
    "\n",
    "def dict_inline(dict):\n",
    "    return[k for k in dict if dict[k] > 18]\n",
    "            \n",
    "            \n",
    "calhob = {'calvin': 8, 'hobbes': 19, 'suzie': 30}\n",
    "\n",
    "dict_inline(calhob)"
   ]
  },
  {
   "cell_type": "code",
   "execution_count": 4,
   "metadata": {},
   "outputs": [
    {
     "name": "stdout",
     "output_type": "stream",
     "text": [
      "brown\n"
     ]
    }
   ],
   "source": [
    "nested = {'robin': {'color': ['red', 'brown'], 'season': 'spring'}, 'bluebird':\n",
    "{'color': 'blue', 'song': 'tweetweetwee'}}\n",
    "\n",
    "\n",
    "def robin(dict):\n",
    "    return[k for k in dict]\n",
    "\n",
    "robin(nested['robin'])\n",
    "\n",
    "print(nested['robin']['color'][1])"
   ]
  },
  {
   "cell_type": "code",
   "execution_count": 1,
   "metadata": {},
   "outputs": [
    {
     "data": {
      "text/plain": [
       "['Jess']"
      ]
     },
     "execution_count": 1,
     "metadata": {},
     "output_type": "execute_result"
    }
   ],
   "source": [
    "data = [\n",
    "    {'student': 'Jess', 'points': 16},\n",
    "    {'student': 'Bri', 'points': 12},\n",
    "    {'student': 'Jarret', 'points': 7},\n",
    "    {'student': 'Dylan', 'points': 12},\n",
    "]\n",
    "\n",
    "def student_return(list):\n",
    "    students = []\n",
    "    for i in list:\n",
    "        name = i['student']\n",
    "        point_tot = i['points']\n",
    "        if point_tot > 15:\n",
    "            students.append(name)\n",
    "    return students \n",
    "\n",
    "student_return(data)\n",
    "\n",
    "#inline\n",
    "def student_over_points(students: list, point:int) -> list:\n",
    "    return [x['student'] for x in students if (isinstance(x, dict) and 'points' in x and 'student' in x and x['points'] > point)]"
   ]
  },
  {
   "cell_type": "code",
   "execution_count": null,
   "metadata": {},
   "outputs": [],
   "source": [
    "sampleDict = {\n",
    "    \"class\": {\n",
    "        \"student\": {\n",
    "            \"name\": \"Mike\",\n",
    "            \"marks\": {\n",
    "                \"physics\": 70,\n",
    "                \"history\": 80\n",
    "            }\n",
    "        }\n",
    "    }\n",
    "}\n",
    "\n",
    "\n",
    "# Get the value of “history”\n",
    "\n",
    "print(sampleDict['class']['student']['marks']['history'])\n",
    "\n",
    "# print all the keys and values of “student”\n",
    "def key_val(data_dict):\n",
    "    key_values = []\n",
    "    student = sampleDict['class']['student']\n",
    "    for key, value in student:\n",
    "        key_values.append(key, value)\n",
    "    return key_values\n",
    "\n",
    "key_val(sampleDict)\n",
    "\n",
    "# print only all the values of “student”"
   ]
  },
  {
   "cell_type": "code",
   "execution_count": 10,
   "metadata": {},
   "outputs": [
    {
     "data": {
      "text/plain": [
       "{'1': 2, '2': 4, '3': 6, '4': 8}"
      ]
     },
     "execution_count": 10,
     "metadata": {},
     "output_type": "execute_result"
    }
   ],
   "source": [
    "def range_dict(num_val):\n",
    "    '''\n",
    "    function that returns a dictionary \n",
    "    '''\n",
    "    dict_multi = {}\n",
    "    for i in range(1, num_val):\n",
    "        multi = {str(i): (i * 2)}\n",
    "        dict_multi.update(multi)\n",
    "    return dict_multi\n",
    "\n",
    "range_dict(5)\n"
   ]
  },
  {
   "cell_type": "code",
   "execution_count": 38,
   "metadata": {},
   "outputs": [
    {
     "name": "stdout",
     "output_type": "stream",
     "text": [
      "80\n",
      "98\n"
     ]
    }
   ],
   "source": [
    "sampleDict = {\n",
    "    \"class\": {\n",
    "        \"students\": [\n",
    "            {            \n",
    "                \"name\": \"Mike\",\n",
    "                \"marks\": {\n",
    "                    \"physics\": 70,\n",
    "                    \"history\": 80\n",
    "                }\n",
    "            },\n",
    "            {            \n",
    "                \"name\": \"Susie\",\n",
    "                \"marks\": {\n",
    "                    \"physics\": 95,\n",
    "                    \"history\": 98\n",
    "                }\n",
    "            },\n",
    "        ]\n",
    "    }\n",
    "}\n",
    "\n",
    "# def susie_grades(dict_class):\n",
    "#     print(dict_class['class']['students'][1]['name'])\n",
    "#     print(dict_class['class']['students'][1]['marks']['history'])\n",
    "\n",
    "# susie_grades(sampleDict)\n",
    "\n",
    "# def physics():\n",
    "#     for i in range(0,2):\n",
    "#         print(sampleDict['class']['students'][i]['marks']['physics'])\n",
    "\n",
    "# physics()\n",
    "\n",
    "def dict_history(complex_dict, subject = 'history'):\n",
    "    student_array = sampleDict['class']['students']\n",
    "    for i in range(len(student_array)):\n",
    "        print(student_array[i]['marks'][subject])\n",
    "\n",
    "dict_history(sampleDict)"
   ]
  },
  {
   "cell_type": "code",
   "execution_count": 46,
   "metadata": {},
   "outputs": [
    {
     "data": {
      "text/plain": [
       "False"
      ]
     },
     "execution_count": 46,
     "metadata": {},
     "output_type": "execute_result"
    }
   ],
   "source": [
    "def is_in(sub_string, string):\n",
    "    if sub_string in string:\n",
    "        return True\n",
    "    else:\n",
    "        return False\n",
    "\n",
    "is_in('pirate', 'pirates of the caribbean')\n",
    "\n",
    "\n",
    "def is_in(sub_string, string):\n",
    "    return True if sub_string in string else False\n",
    "\n",
    "is_in('water', 'my cup')"
   ]
  },
  {
   "cell_type": "code",
   "execution_count": 56,
   "metadata": {},
   "outputs": [
    {
     "data": {
      "text/plain": [
       "6.33"
      ]
     },
     "execution_count": 56,
     "metadata": {},
     "output_type": "execute_result"
    }
   ],
   "source": [
    "numbers = [1, 10, 5, 7, 3, 12]\n",
    "\n",
    "def avg_num(list_num):\n",
    "    avg = sum(list_num) / len(list_num)\n",
    "    return round(avg, 2)\n",
    "\n",
    "avg_num(numbers)"
   ]
  },
  {
   "cell_type": "code",
   "execution_count": null,
   "metadata": {},
   "outputs": [],
   "source": [
    "a = [1, 2]\n",
    "b = [3, 4, 5]\n",
    "\n",
    "def perms(li_1, li_2):\n",
    "    tuple_li = tuple(zip(li_1, li_2))\n",
    "    return tuple_li\n",
    "\n",
    "perms(a, b)\n",
    "\n",
    "\n",
    "\n",
    "def perm_two(li_1, li_2) -> list:\n",
    "    '''\n",
    "    Generates a list of tuples for every permutation in two lists \n",
    "    '''\n",
    "    tuple_li = []\n",
    "    for i1 in li_1:\n",
    "        print(f'loop 1: {i1}')\n",
    "        for i2 in li_2:\n",
    "            print(f'loop 2: {i2}')\n",
    "            tuple_li.append((i1, i2))\n",
    "    return tuple_li\n",
    "\n",
    "perm_two(a, b)\n",
    "\n"
   ]
  },
  {
   "cell_type": "code",
   "execution_count": 83,
   "metadata": {},
   "outputs": [
    {
     "data": {
      "text/plain": [
       "[1, 3, 4, 5, 7]"
      ]
     },
     "execution_count": 83,
     "metadata": {},
     "output_type": "execute_result"
    }
   ],
   "source": [
    "# import pandas \n",
    "# import numpy\n",
    "\n",
    "a_list = [1, 3, 4, 5, 3, 1, 7]\n",
    "\n",
    "def uni_list(any_list):\n",
    "    uni_list = numpy.unique(any_list)\n",
    "    return sorted(uni_list)\n",
    "\n",
    "sorted(list(set(a_list)))\n",
    "\n",
    "# RSA Cryptography\n"
   ]
  },
  {
   "cell_type": "code",
   "execution_count": null,
   "metadata": {},
   "outputs": [],
   "source": [
    "class Dog:\n",
    "    def __init__(self, name, bark_times = 3):\n",
    "        self.name = name\n",
    "\n",
    "    def bark(self):\n",
    "        for i in range(1,bark_times):\n",
    "            print('bark')\n",
    "\n",
    "    def name_is(self):\n",
    "        print(f'Hello my name is {self.name}')\n",
    "    \n",
    "dog_one = Dog('Belka')\n",
    "\n",
    "dog_one.name_is()\n",
    "\n",
    "\n",
    "dog_two =Dog('Nala', bark_times = 4)\n",
    "\n",
    "dog_two.bark()\n",
    "\n",
    "\n"
   ]
  },
  {
   "cell_type": "code",
   "execution_count": 2,
   "metadata": {},
   "outputs": [
    {
     "name": "stdout",
     "output_type": "stream",
     "text": [
      "1\n",
      "[1, 1]\n"
     ]
    }
   ],
   "source": [
    "def find_string(character, in_string):\n",
    "    index = in_string.find(character)\n",
    "    print(index)\n",
    "\n",
    "find_string('a', 'pancake')\n",
    "\n",
    "def split_string(character, in_string):\n",
    "    index_list = []\n",
    "    char_list = list(in_string)\n",
    "    for i in char_list:\n",
    "        if i == character:\n",
    "            char_index = char_list.index(character)\n",
    "            index_list.append(char_index)\n",
    "    print(index_list)\n",
    "\n",
    "split_string('a', 'pancake')"
   ]
  },
  {
   "cell_type": "code",
   "execution_count": null,
   "metadata": {},
   "outputs": [],
   "source": [
    "class Friend:\n",
    "    def __init__(self, nickname, age, invited=True):\n",
    "        self.nickname = nickname\n",
    "        self.age = age\n",
    "\n",
    "    def how_old(self):\n",
    "        for i in range(1, self.age + 1):\n",
    "            print(i)\n",
    "    \n",
    "    def party_time(self):\n",
    "        if invited:\n",
    "            print(f'hey {self.nickname}, come to my party!')\n",
    "        else:\n",
    "            pass\n",
    "\n",
    "\n",
    "friend1 = Friend('Moose', 10, invited=False)\n",
    "friend2 = Friend('Frank', 8)\n",
    "\n",
    "friend1.how_old()\n",
    "\n",
    "friend2.party_time()\n",
    "\n"
   ]
  },
  {
   "cell_type": "code",
   "execution_count": 2,
   "metadata": {},
   "outputs": [
    {
     "name": "stdout",
     "output_type": "stream",
     "text": [
      "Dylan\n",
      "Jarret\n"
     ]
    }
   ],
   "source": [
    "import random\n",
    "\n",
    "def random_name(name_list, num):\n",
    "    for name in range(num):\n",
    "        if len(name_list) == 0:\n",
    "            break\n",
    "        rando = random.choice(name_list)\n",
    "        name_list.remove(rando)\n",
    "        print(rando)\n",
    "\n",
    "students = ['Jess', 'Jarret', 'Dylan']\n",
    "random_name(students, 2)\n",
    "    \n"
   ]
  },
  {
   "cell_type": "code",
   "execution_count": 13,
   "metadata": {},
   "outputs": [
    {
     "name": "stdout",
     "output_type": "stream",
     "text": [
      "book\n"
     ]
    }
   ],
   "source": [
    "def shop_list(item_dict, item_want, budget):\n",
    "    if item_want in item_dict and budget >= item_dict[item_want]:\n",
    "        print(item_want)\n",
    "    else:\n",
    "        pass\n",
    "    \n",
    "\n",
    "\n",
    "item_d = {'book': 12, 'couch': 200, 'old_shoe': 1}\n",
    "\n",
    "shop_list(item_d, 'book', 20)"
   ]
  },
  {
   "cell_type": "code",
   "execution_count": 8,
   "metadata": {},
   "outputs": [
    {
     "name": "stdout",
     "output_type": "stream",
     "text": [
      "B!\n",
      "E!\n",
      "L!\n",
      "L!\n",
      "S!\n",
      "Go Bells!\n"
     ]
    }
   ],
   "source": [
    "class Cheer:\n",
    "\n",
    "    def __init__(self, team):\n",
    "        self.team = team\n",
    "\n",
    "    def go_team(self):\n",
    "        spell = list(self.team)\n",
    "        for letter in spell:\n",
    "            print(letter.upper() + '!')\n",
    "        print(f'Go {self.team}!')\n",
    "\n",
    "bells = Cheer('Bells')\n",
    "bells.go_team()"
   ]
  },
  {
   "cell_type": "code",
   "execution_count": null,
   "metadata": {},
   "outputs": [],
   "source": [
    "# Imagine the numbers in a list as a bar graph. For example:\n",
    "# a = [0, 0, 1, 3, 2, 0, 0, 2, 0] \n",
    "# Write a function that prints the humps. For example: \n",
    "# (1, 3, 2)  and (2)\n",
    "\n",
    "# Expected arguments: a list\n",
    "\n",
    "#solve with negative numbers\n",
    "\n",
    "a = [0, 0, 1, 3, 2, 0, 0, 2, 0]\n",
    "\n",
    "def hump_day(num_list):\n",
    "    hump = ()\n",
    "    for i in num_list:\n",
    "        if (i > 0):\n",
    "            first = num_list.index(i)\n",
    "        else:\n",
    "            if (i == 0):\n",
    "                last = num_list.index(i) - 1\n",
    "                \n",
    "        num_list[first:last:1]\n",
    "\n",
    "hump_day(a)\n"
   ]
  },
  {
   "cell_type": "code",
   "execution_count": 8,
   "metadata": {},
   "outputs": [
    {
     "data": {
      "text/plain": [
       "[[1, 2, 3], [2, 3, 4], [3, 4, 5], [4, 5, 6], [5, 6, 7]]"
      ]
     },
     "execution_count": 8,
     "metadata": {},
     "output_type": "execute_result"
    }
   ],
   "source": [
    "# List Chunker Pt. 1\n",
    "\n",
    "# Move through a list in 3-unit sections, returning the first three entries, then the second three entries, etc, til the end. \n",
    "\n",
    "# Example input: [1 , 2, 3, 4, 5, 6, 7]\n",
    "# Example output: \n",
    "# \t[1, 2, 3]\n",
    "# \t[2, 3, 4]\n",
    "# \t[3, 4, 5]\n",
    "# \t[5, 6, 7]\n",
    "\n",
    "# The 3-unit sections can be returned as any data type, i.e. list, tuple, or string\n",
    "\n",
    "def chunker(a_list):\n",
    "    mega_list = []\n",
    "    for i in range(len(a_list)):\n",
    "        three_tuple = (a_list[i:(i + 3):1])\n",
    "        if len(three_tuple) > 2:\n",
    "            mega_list.append(three_tuple)\n",
    "    return mega_list\n",
    "\n",
    "inputli = [1 , 2, 3, 4, 5, 6, 7]\n",
    "\n",
    "chunker(inputli)\n"
   ]
  },
  {
   "cell_type": "code",
   "execution_count": null,
   "metadata": {},
   "outputs": [],
   "source": [
    "# Print a NxM multiplication table \n",
    "# 1  2  3  4  5\n",
    "# 2  4  6  8  10\n",
    "# 3  6  9  12 15 \n",
    "\n",
    "# If you like your code to print in a nice formatted way…\n",
    "# use print(f\"{num:2d}\", end=\"\")\n",
    "\n",
    "# The end=\"\" tells print NOT to print an endline\n",
    "# {...:2d} formats a number in 2 characters\n",
    "\n",
    "def multi_table(N, M):\n",
    "    for i in range(1, N+1):\n",
    "        for j in range(1, M+1):\n",
    "            num = i * j\n",
    "            print(f\"{num:5d}\", end=\"\")\n",
    "        print(\"\")\n",
    "\n",
    "\n",
    "multi_table(5, 5)"
   ]
  },
  {
   "cell_type": "code",
   "execution_count": 8,
   "metadata": {},
   "outputs": [
    {
     "data": {
      "text/plain": [
       "(5, 2)"
      ]
     },
     "execution_count": 8,
     "metadata": {},
     "output_type": "execute_result"
    }
   ],
   "source": [
    "def rain_collector(rain_list)-> int:\n",
    "    wall_one = 0\n",
    "    wall_two = 0\n",
    "    for num in rain_list:\n",
    "        if num > wall_one:\n",
    "            wall_one = num     \n",
    "    rain_list.remove(wall_one)\n",
    "    for num in rain_list:\n",
    "        if num > wall_two:\n",
    "            wall_two = num\n",
    "    return wall_one, wall_two\n",
    "    \n",
    "rain = [5,0,1,1,0,2,0,0,0]\n",
    "\n",
    "rain_collector(rain)"
   ]
  },
  {
   "cell_type": "code",
   "execution_count": 6,
   "metadata": {},
   "outputs": [
    {
     "data": {
      "text/plain": [
       "False"
      ]
     },
     "execution_count": 6,
     "metadata": {},
     "output_type": "execute_result"
    }
   ],
   "source": [
    "def pali(in_str):\n",
    "    if in_str == str(in_str[::-1]):\n",
    "        return True\n",
    "    else:\n",
    "        return False\n",
    "\n",
    "\n",
    "pali(\"HA\")"
   ]
  },
  {
   "cell_type": "code",
   "execution_count": 3,
   "metadata": {},
   "outputs": [
    {
     "data": {
      "text/plain": [
       "True"
      ]
     },
     "execution_count": 3,
     "metadata": {},
     "output_type": "execute_result"
    }
   ],
   "source": [
    "def anagram_check(anagram, word):\n",
    "    if anagram != word:\n",
    "        if len(anagram) == len(word):\n",
    "            for char in anagram:\n",
    "                if char not in word:\n",
    "                    return False\n",
    "                else:\n",
    "                    pass\n",
    "            return True\n",
    "        else:\n",
    "            return False\n",
    "    else:\n",
    "        return False\n",
    "\n",
    "anagram_check(\"bbig bug\", \"bigg bug\")"
   ]
  },
  {
   "cell_type": "code",
   "execution_count": 1,
   "metadata": {},
   "outputs": [],
   "source": [
    "def add_up(in_list, sum_num):\n",
    "    tuple_list = []\n",
    "    for i in in_list:\n",
    "        for j in in_list:\n",
    "            if i + j == int(sum_num):\n",
    "                tuple_list.append(tuple(i, j))"
   ]
  },
  {
   "cell_type": "code",
   "execution_count": null,
   "metadata": {},
   "outputs": [],
   "source": [
    "import argparse\n",
    "\n",
    "def beverage_time():\n",
    "    parser = argparse.ArgumentParser\n",
    "    parser.add_argument(\"-b\",\"--beverage\", choices=(\"tea\", \"coffee\"))\n",
    "    args, _ = parser.parse_known_args()\n",
    "    if args.beverage == \"tea\":\n",
    "        print(\"Yep, plenty of tea!\")\n",
    "    elif args.beverage == \"coffee\":\n",
    "        print(\"Hot coffee, coming right up!\")\n",
    "    else:\n",
    "        print(\"Please select tea or coffee!\")\n",
    "\n",
    "if __name__ == \"__main__\":\n",
    "    beverage_time()"
   ]
  },
  {
   "cell_type": "code",
   "execution_count": 8,
   "metadata": {},
   "outputs": [
    {
     "data": {
      "text/plain": [
       "[1, 4, 9, 256, 729, 10000]"
      ]
     },
     "execution_count": 8,
     "metadata": {},
     "output_type": "execute_result"
    }
   ],
   "source": [
    "def square_map(list_in):\n",
    "    return list(map(lambda x: x**2, list_in))\n",
    "\n",
    "ex_in=[1,2,3,16,27,100]\n",
    "square_map(ex_in)"
   ]
  },
  {
   "cell_type": "code",
   "execution_count": 5,
   "metadata": {},
   "outputs": [
    {
     "name": "stdout",
     "output_type": "stream",
     "text": [
      "6\n"
     ]
    }
   ],
   "source": [
    "print((lambda x,y,z: x+y+z)(1,2,3))"
   ]
  },
  {
   "cell_type": "code",
   "execution_count": 6,
   "metadata": {},
   "outputs": [
    {
     "data": {
      "text/plain": [
       "['ManCity', 'Liverpool', 'Real_Madrid']"
      ]
     },
     "execution_count": 6,
     "metadata": {},
     "output_type": "execute_result"
    }
   ],
   "source": [
    "input_list = [\"ManCity\", \"Liverpool\",\"Real_Madrid\", \"Porto\", \"Ajax\"]\n",
    "\n",
    "list(filter(lambda x: len(x) > 5, input_list))"
   ]
  }
 ],
 "metadata": {
  "interpreter": {
   "hash": "52e380e80c3c3a799185099e896329ed5029e3352ba0a9e11d83553b4bfbfa9b"
  },
  "kernelspec": {
   "display_name": "Python 3.7.13 ('venv': venv)",
   "language": "python",
   "name": "python3"
  },
  "language_info": {
   "codemirror_mode": {
    "name": "ipython",
    "version": 3
   },
   "file_extension": ".py",
   "mimetype": "text/x-python",
   "name": "python",
   "nbconvert_exporter": "python",
   "pygments_lexer": "ipython3",
   "version": "3.7.13"
  },
  "orig_nbformat": 4
 },
 "nbformat": 4,
 "nbformat_minor": 2
}
